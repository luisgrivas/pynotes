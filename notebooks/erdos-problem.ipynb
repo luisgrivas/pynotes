{
 "cells": [
  {
   "cell_type": "markdown",
   "metadata": {},
   "source": [
    "## Un problema de Erdös"
   ]
  },
  {
   "cell_type": "markdown",
   "metadata": {},
   "source": [
    "**Problema**. Demuestre que todo entero mayor que $ 1$ puede ser representado como la suma de términos de la forma $ 2^p \\cdot 3^q$ mayor que $ 1$, tales que ningún término en la suma es un divisor de otro término.\n",
    "\n",
    "La solución de este problema se puede encontrar en esta [publicación](https://luisgrivas.github.io/blog/problem-solving/2020/11/05/PB-Komal-May19.html)."
   ]
  },
  {
   "cell_type": "code",
   "execution_count": 1,
   "metadata": {},
   "outputs": [],
   "source": [
    "import matplotlib.pyplot as plt\n",
    "import numpy as np"
   ]
  },
  {
   "cell_type": "code",
   "execution_count": 2,
   "metadata": {},
   "outputs": [],
   "source": [
    "def factor3(n):\n",
    "    if n % 3 == 0:\n",
    "        return 1 + factor3(n / 3)\n",
    "    else:\n",
    "        return 0\n",
    "    \n",
    "def factor2(n):\n",
    "    if n % 2 == 0:\n",
    "        return 1 + factor2(n / 2 )\n",
    "    else:\n",
    "        return 0\n",
    "    \n",
    "def maxfactor3(n):\n",
    "    if n - 3 >= 0:\n",
    "        return 1 + maxfactor3( n // 3)\n",
    "    else:\n",
    "        return 0 \n",
    "    \n",
    "def subroutine(n):\n",
    "    p3 = maxfactor3(n)\n",
    "    p2 = factor2(n - 3**p3)\n",
    "    m = (n - 3**p3) / 2**p2\n",
    "    if m == 1:\n",
    "        return f\"3^{p3} + 2^{p2}\"\n",
    "    else:\n",
    "        return f\"3^{p3} + 2^{p2}({subroutine(m)})\"\n",
    "\n",
    "def erdos_decomposition(n):\n",
    "    p2 = factor2(n)\n",
    "    p3 = factor3(n)\n",
    "    \n",
    "    m = n / (2**p2 * 3**p3)\n",
    "    \n",
    "    if m == 1:\n",
    "        return f\"(2^{p2} * 3^{p3})\"\n",
    "    else:\n",
    "        return f\"(2^{p2} * 3^{p3}) * ({subroutine(m)})\"\n",
    "    \n",
    "def n_dec(n):\n",
    "    p3 = maxfactor3(n)\n",
    "    p2 = factor2(n - 3**p3)\n",
    "    m = (n - 3**p3) / 2**p2\n",
    "    if m == 1:\n",
    "        return 2\n",
    "    else:\n",
    "        return 1 + n_dec(m)\n",
    "\n",
    "\n",
    "def n_erdos_decomposition(n):\n",
    "    p2 = factor2(n)\n",
    "    p3 = factor3(n)\n",
    "    \n",
    "    m = n / (2**p2 * 3**p3)\n",
    "    \n",
    "    if m == 1:\n",
    "        return 1\n",
    "    else:\n",
    "        return n_dec(m)"
   ]
  },
  {
   "cell_type": "markdown",
   "metadata": {},
   "source": [
    "Los siguientes ejemplos muestran el funcionamiento del algoritmo para obtener la descomposición según el requerimiento del problema. "
   ]
  },
  {
   "cell_type": "code",
   "execution_count": 3,
   "metadata": {
    "scrolled": true
   },
   "outputs": [
    {
     "name": "stdout",
     "output_type": "stream",
     "text": [
      "(2^0 * 3^0) * (3^1 + 2^1)\n",
      "\n",
      "Número de términos:  2\n"
     ]
    }
   ],
   "source": [
    "print(erdos_decomposition(5))\n",
    "print(\"\\nNúmero de términos: \", str(n_erdos_decomposition(5)))"
   ]
  },
  {
   "cell_type": "code",
   "execution_count": 4,
   "metadata": {},
   "outputs": [
    {
     "name": "stdout",
     "output_type": "stream",
     "text": [
      "(2^0 * 3^0) * (3^3 + 2^2)\n",
      "\n",
      "Número de términos:  2\n"
     ]
    }
   ],
   "source": [
    "print(erdos_decomposition(31))\n",
    "print(\"\\nNúmero de términos: \", str(n_erdos_decomposition(31)))"
   ]
  },
  {
   "cell_type": "code",
   "execution_count": 5,
   "metadata": {},
   "outputs": [
    {
     "name": "stdout",
     "output_type": "stream",
     "text": [
      "(2^0 * 3^1) * (3^2 + 2^1(3^1 + 2^1))\n",
      "\n",
      "Número de términos:  3\n"
     ]
    }
   ],
   "source": [
    "print(erdos_decomposition(57))\n",
    "print(\"\\nNúmero de términos: \", str(n_erdos_decomposition(57)))"
   ]
  },
  {
   "cell_type": "code",
   "execution_count": 6,
   "metadata": {},
   "outputs": [
    {
     "name": "stdout",
     "output_type": "stream",
     "text": [
      "(2^0 * 3^0) * (3^4 + 2^2(3^1 + 2^1))\n",
      "\n",
      "Número de términos:  3\n"
     ]
    }
   ],
   "source": [
    "print(erdos_decomposition(101))\n",
    "print(\"\\nNúmero de términos: \", str(n_erdos_decomposition(101)))"
   ]
  },
  {
   "cell_type": "code",
   "execution_count": 7,
   "metadata": {},
   "outputs": [
    {
     "name": "stdout",
     "output_type": "stream",
     "text": [
      "(2^0 * 3^0) * (3^4 + 2^1(3^3 + 2^1(3^2 + 2^4)))\n",
      "\n",
      "Número de términos:  4\n"
     ]
    }
   ],
   "source": [
    "print(erdos_decomposition(235))\n",
    "print(\"\\nNúmero de términos: \", str(n_erdos_decomposition(235)))"
   ]
  },
  {
   "cell_type": "markdown",
   "metadata": {},
   "source": [
    "### Probabilidad\n",
    "Una pregunta natural es, ¿como se distribuyen el número de términos en la descomposición? Al parecer esta variable se distribuye normalmente. Apesar que no he demostrado lo anterior, los siguientes experimentos parece soportan esta conjetura."
   ]
  },
  {
   "cell_type": "code",
   "execution_count": 8,
   "metadata": {},
   "outputs": [
    {
     "name": "stdout",
     "output_type": "stream",
     "text": [
      "x < 10^3\n",
      "Mínimo:  1\n",
      "Media:  2.99498997995992\n",
      "Desviación estándar:  0.9025542411491024\n",
      "Mediana:  3.0\n",
      "Máximo:  6\n",
      "--------------------\n",
      "\n",
      "x < 10^4\n",
      "Mínimo:  1\n",
      "Media:  3.9203840768153633\n",
      "Desviación estándar:  1.0514198349129396\n",
      "Mediana:  4.0\n",
      "Máximo:  8\n",
      "--------------------\n",
      "\n",
      "x < 10^5\n",
      "Mínimo:  1\n",
      "Media:  4.854917098341967\n",
      "Desviación estándar:  1.1842379072702718\n",
      "Mediana:  5.0\n",
      "Máximo:  10\n",
      "--------------------\n",
      "\n",
      "x < 10^6\n",
      "Mínimo:  1\n",
      "Media:  5.787935575871152\n",
      "Desviación estándar:  1.2947424928061118\n",
      "Mediana:  6.0\n",
      "Máximo:  12\n",
      "--------------------\n",
      "\n",
      "x < 10^7\n",
      "Mínimo:  1\n",
      "Media:  6.718378143675629\n",
      "Desviación estándar:  1.4080628332680247\n",
      "Mediana:  7.0\n",
      "Máximo:  14\n",
      "--------------------\n",
      "\n"
     ]
    }
   ],
   "source": [
    "for exp in [3, 4, 5, 6, 7]:\n",
    "    x = list(range(2, 10**exp))\n",
    "    counts = []\n",
    "    \n",
    "    for i in range(2, 10**exp):\n",
    "        counts.append(n_erdos_decomposition(i))\n",
    "    \n",
    "    print(\"x < 10^\"+str(exp))\n",
    "    print(\"Mínimo: \", str(np.min(counts)))\n",
    "    print(\"Media: \", str(np.mean(counts)))\n",
    "    print(\"Desviación estándar: \", str(np.std(counts)))\n",
    "    print(\"Mediana: \", str(np.median(counts)))\n",
    "    print(\"Máximo: \", str(np.max(counts)))\n",
    "    print(\"-\"*20+\"\\n\")\n"
   ]
  },
  {
   "cell_type": "code",
   "execution_count": 9,
   "metadata": {},
   "outputs": [],
   "source": [
    "x = list(range(2, 1000000))\n",
    "counts = list()\n",
    "\n",
    "for i in range(2, 1000000):\n",
    "    counts.append(n_erdos_decomposition(i))\n",
    "\n",
    "M = max(counts)"
   ]
  },
  {
   "cell_type": "code",
   "execution_count": 10,
   "metadata": {},
   "outputs": [
    {
     "data": {
      "image/png": "[encoded data removed]",
      "text/plain": [
       "<Figure size 864x432 with 1 Axes>"
      ]
     },
     "metadata": {
      "needs_background": "light"
     },
     "output_type": "display_data"
    }
   ],
   "source": [
    "plt.figure(figsize=(12,6))\n",
    "plt.hist(counts, bins=M, color='#607c8e', rwidth=0.9)\n",
    "plt.title(\"Histograma del número de términos en la descomposición de Erdös $(x \\leq 1000000)$\")\n",
    "plt.xlabel('Número de términos de la forma $3^q \\cdot 2^p$')\n",
    "plt.ylabel('')\n",
    "plt.savefig(\"../plots/histerdos1.png\", dpi=150)"
   ]
  }
 ],
 "metadata": {
  "kernelspec": {
   "display_name": "Python 3",
   "language": "python",
   "name": "python3"
  },
  "language_info": {
   "codemirror_mode": {
    "name": "ipython",
    "version": 3
   },
   "file_extension": ".py",
   "mimetype": "text/x-python",
   "name": "python",
   "nbconvert_exporter": "python",
   "pygments_lexer": "ipython3",
   "version": "3.8.6"
  }
 },
 "nbformat": 4,
 "nbformat_minor": 2
}
