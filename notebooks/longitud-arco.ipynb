{
 "cells": [
  {
   "cell_type": "code",
   "execution_count": 108,
   "metadata": {},
   "outputs": [],
   "source": [
    "import numpy as np\n",
    "import matplotlib.pyplot as plt\n",
    "\n",
    "plt.rcParams['legend.fontsize'] = 10\n",
    "plt.rcParams['figure.figsize'] = 10, 5"
   ]
  },
  {
   "cell_type": "markdown",
   "metadata": {},
   "source": [
    "### Funciones de variación acotada"
   ]
  },
  {
   "cell_type": "markdown",
   "metadata": {},
   "source": [
    "**Definición**. Sea $f:[a, b] \\rightarrow \\mathbb{R}$ una función. Decimos que $f$ es una función de **variación acotada**, si existe $M > 0$ tal que  $$\\sum_{k=1}^n \\lvert f(x_k) - f(x_{k-1}) \\lvert < M,$$\n",
    "para toda partición $P = {x_0, x_1, \\ldots, x_n}$ de $[a, b]$."
   ]
  },
  {
   "cell_type": "markdown",
   "metadata": {},
   "source": [
    "**Ejemplo**. Consideremos la función $f(x) = x$ en $[0, 1]$. Para cualquier partición $P$ de $[0, 1]$, se tiene que $$\\sum_{k=1}^n \\lvert f(x_k) - f(x_{k-1}) \\lvert = \\sum_{k=1}^n (x_k - x_{k-1}) = 1.$$\n",
    "\n",
    "Por tanto $f(x) = x$ es una función de variación acotada. \n",
    "\n",
    "**Nota**. Notése que en la suma anterior, solo hicimos uso de la monotonía de la función $f$, por tanto, se concluye inmediatamente que las funciones monónotonas en intervalos $[a, b]$ son de variación acotada. "
   ]
  },
  {
   "cell_type": "markdown",
   "metadata": {},
   "source": [
    "No toda función continua es función de variación acotada. Sin embargo, suponga que $f$ es continua y diferenciable en $[a, b]$. Sea $P$ es una partición de $[a, b]$, entonces, por el Teorema del Valor Medio, se tiene que \n",
    "$f(x_k) - f(x_{k-1}) = f'(t_k) (x_k - x_{k-1})$, para algún $t_k \\in (x_{k-1}, x_k)$. Luego,\n",
    "\n",
    "$$\\sum_{k=1}^n \\lvert f(x_k) - f(x_{k-1}) \\lvert = \\sum_{k=1}^n \\lvert f'(t_k)(x_k - x_{k-1}) \\lvert =  \\sum_{k=1}^n \\lvert f'(t_k) \\lvert (x_k - x_{k-1}). $$\n",
    "\n",
    "De lo anterior, podemos ver que si $f'$ está acotada en $[a, b]$, entonces $f$ es de variación acotada."
   ]
  },
  {
   "cell_type": "markdown",
   "metadata": {},
   "source": [
    "**Ejemplo.** Sea $f$ en $[0, 1]$ definida como $f(x) = 1$, si $x$ es racional; $f(x) = 0$, si $x$ es irracional. Sea $P$ una partición con un número impar de elementos y definida de la siguiente manera: $x_k$ racional si $k$ es impar, $x_k$ irracional si $k$ es par. Entonces \n",
    "$$ \\sum_{k=1}^n \\lvert f(x_k) - f(x_{k-1}) \\lvert = n.$$\n",
    "Esto muestra que $f$ no es de variación acotada. "
   ]
  },
  {
   "cell_type": "markdown",
   "metadata": {},
   "source": [
    "El anterior ejemplo muestra que no toda función acotada es de variación acotada. Sin embargo, toda función de variación acotada necesariamente es acotada. Esto se deduce inmediatamente si consideramos la partición $P = \\{a, t, b\\}$ y la desigualdad \n",
    "$$\\lvert f(t) - f(a) \\lvert + \\lvert f(b) - f(t) \\lvert \\leq M. $$"
   ]
  },
  {
   "cell_type": "markdown",
   "metadata": {},
   "source": [
    "**Ejemplo**. Ahora enunciaremos una función continua que no es de variación acotada. Sea $f(x) = x \\cos(\\pi/2x)$ para $x\\neq 0$ y $f(0) = 0$."
   ]
  },
  {
   "cell_type": "markdown",
   "metadata": {},
   "source": [
    "### Curvas rectificables y  longitud de arco"
   ]
  },
  {
   "cell_type": "markdown",
   "metadata": {},
   "source": [
    "**Definición**. Sea $f: [a, b] \\rightarrow \\mathbb{R}^n$ una función. Sea $P = \\{x_0, x_1, \\ldots, x_n\\}$ una partición de $[a, b]$. Definamos \n",
    "$$ \\Lambda_f(P) = \\sum_{k=1}^n \\lvert \\lvert f(x_k) - f(x_{k-1}) \\lvert \\lvert. $$\n",
    "Si el conjunto $L = \\{\\Lambda_f(P): P \\text{ partición de } [a, b] \\}$ está acotado superiormente, se dice que $f$ es **rectificable**. Al número $ \\Lambda_f(a, b) = \\sup L$ se le conoce como longitud de arco de $f$. \n",
    "\n",
    "Si el conjunto $L$ no está acotado superiormente se dice que $f$ es no rectificable.\n",
    "\n"
   ]
  },
  {
   "cell_type": "markdown",
   "metadata": {},
   "source": [
    "Note que $f(t) = (f_1(t), \\ldots, f_n(t))$, entonces \n",
    "$$\\lvert f_i(x_k) - f_i(x_{k-1}) \\lvert \\leq \\lvert \\lvert f(x_k) - f(x_{k-1}) \\lvert \\lvert \\leq \\sum_{i=1}^{n} \\lvert f_i(x_k) - f_i(x_{k-1}) \\lvert, $$\n",
    "para $i=1, \\ldots, n$ y para toda partición $P$ de $[a, b]$. Luego, una condición necesaria y suficiente para que $f$ sea rectificable es que cada una de las funciones $f_i$ sean de variación acotada. Esto lo enunciamos en el siguiente teorema."
   ]
  },
  {
   "cell_type": "markdown",
   "metadata": {},
   "source": [
    "**Teorema.** Sea $f: [a, b] \\rightarrow \\mathbb{R}^n$ de componentes $f = (f_1, \\ldots, f_n)$. Entonces $f$ es rectificable si y solo si cada componente $f_i$ es de variación acotada. \n"
   ]
  },
  {
   "cell_type": "markdown",
   "metadata": {},
   "source": [
    "Una objetivo interesante es determinar si existe una forma analítica de calcular la longitud de arco. Consideremos una función $f: [a, b] \\rightarrow \\mathbb{R}^m$ con  componentes $f = (f_1, \\ldots, f_m)$ y una partición $P = \\{a=x_0, x_1, \\ldots, b=x_n \\}$ de $[a, b]$. Si $f$ es diferenciable en $[a, b]$, podemos aplicar el Teorema del Valor Medio para obtener\n",
    "\n",
    "$$f_i(x_k) - f_i(x_{k-1}) =  f_i'(t_k^{(i)}) (x_k - x_{k-1}), $$\n",
    "con $t_k^{(i)} \\in (x_{k-1}, x_k)$ y para $i=1, \\ldots, m$. De aquí se sigue que, \n",
    "\n",
    "$$ \\Lambda_f(P) = \\sum_{k=1}^n \\lvert \\lvert f(x_k) - f(x_{k-1}) \\lvert \\lvert = \\sum_{k=1}^n (x_k - x_{k-1}) \\sqrt{f'_1(t_k^{(1)})^2 + \\ldots + f'_m(t_k^{(m)})^2 }. $$\n",
    "\n",
    "Ahora, si suponemos además que $f'$ es continua en $[a, b]$, esto implica que cada $f'_i$ es continua en $[a, b]$. Luego, $f_i'$ es uniformemente continua en $[a, b]$. Sea $\\epsilon > 0$. Entonces, para cada $f_i$ existe un $\\delta_i > 0$ tal que si $\\lvert x - y \\lvert < \\delta_i$, entonces $\\lvert f'_i(x) - f'_i(y) \\lvert < \\frac{\\epsilon}{(b - a)\\sqrt{m }}$. Si hacemos $\\delta = \\min\\{\\delta_1, \\ldots, \\delta_m \\}$ y consideramos una partición $P$ cuya norma sea menor que $\\delta$, entonces \n",
    "$$\\begin{eqnarray} \n",
    "\\Delta_f(P) - S(P, \\lvert \\lvert f'\\lvert \\lvert) &=& \\sum_{k=1}^n (x_k - x_{k-1}) \\sqrt{f'_1(t_k^{(1)})^2 + \\ldots + f'_m(t_k^{(m)})^2 }\\\\\n",
    "&-& \\sum_{k=1}^n (x_k - x_{k-1}) \\sqrt{f'_1(t_k)^2 + \\ldots + f'_m(t_k)^2 } \\\\\n",
    "&\\leq& \\sum_{k=1}^n (x_k - x_{k-1}) \\sqrt{ (f'_1(t_k^{1}) - f'_1(t_k))^2 + \\ldots + (f'_m(t_k^{m}) - f'_m(t_k))^2 }\\\\\n",
    "&<& \\sum_{k=1}^n (x_k - x_{k-1}) \\frac{\\epsilon}{b-a} \\\\\n",
    "&= & \\epsilon. \n",
    "\\end{eqnarray} $$\n",
    "\n",
    "Por otro lado, como $f$ es rectificable, existe una partición $P'_\\epsilon$ tal que \n",
    "$$ \\Lambda_f(a, b) - \\Lambda_f(P) < \\epsilon, $$ \n",
    "para cualquier partición $P$ más fina que $P'_\\epsilon.$\n",
    "\n",
    "Finalmente, observe que la continuidad de $f'$ implica que $\\lvert \\lvert f' \\lvert \\lvert $ es Riemann integrable. Luego, existe una partición $P''_\\epsilon$ \n",
    "$$\\left\\lvert S(P, \\lvert \\lvert  f' \\lvert \\lvert) - \\int_{a}^b \\lvert \\lvert f' \\lvert \\lvert dt  \\right\\lvert < \\epsilon, $$\n",
    "\n",
    "para toda partición $P$ más fina que $P''_\\epsilon$. Se sigue que si $P_\\epsilon \\supset P'_\\epsilon \\cup P''_\\epsilon$ es una partición de $[a, b]$ cuya norma es menor que $\\delta$, se tiene que\n",
    "$$ \n",
    "\\begin{eqnarray}\n",
    "\\left\\lvert \\Lambda_f(a, b) - \\int_{a}^b \\lvert \\lvert f' \\lvert \\lvert dt \\right\\lvert  &\\leq& \\left\\lvert \\Lambda_f(a, b) - \\Lambda_f(P) \\right\\lvert + \\left\\lvert \\Lambda_f(P) - \\int_{a}^b \\lvert \\lvert f' \\lvert \\lvert dt \\right\\lvert \\\\\n",
    "&<&  \\epsilon + \\left\\lvert \\Lambda_f(P) - S(P, \\lvert \\lvert f' \\lvert \\lvert) \\right\\lvert + \\left\\lvert S(P, \\lvert \\lvert f'\\lvert \\lvert) - \\int_{a}^b \\lvert \\lvert f' \\lvert \\lvert dt \\right\\lvert\\\\\n",
    "&<& 3 \\epsilon\n",
    "\\end{eqnarray}\n",
    "$$\n",
    "\n",
    "para toda partición $P$ más fina que $P_\\epsilon$. Esto demuestra que $$\\Lambda_f(a, b) = \\int_{a}^b \\lvert \\lvert f' \\lvert \\lvert dt.$$\n",
    "\n",
    "Resumamos lo anterior en el siguiente teorema."
   ]
  },
  {
   "cell_type": "markdown",
   "metadata": {},
   "source": [
    "\n",
    "**Teorema.** Si $f: [a, b] \\rightarrow \\mathbb{R}^n$ tiene derivada $f'$ continua en $[a, b]$, entonces la longitud de arco $\\Lambda_f(a, b)$ está dada por\n",
    "$$ \\Lambda_f(a, b) = \\int_{a}^b \\lvert \\lvert f'(t) \\lvert \\lvert dt.$$"
   ]
  },
  {
   "cell_type": "markdown",
   "metadata": {},
   "source": [
    "Comprobemos lo anterior con los siguientes ejemplos"
   ]
  },
  {
   "cell_type": "code",
   "execution_count": 109,
   "metadata": {},
   "outputs": [],
   "source": [
    "def suma_r(P, f):\n",
    "    n = len(P)\n",
    "    deltas = np.diff(P)\n",
    "    ts = (np.roll(P, 1)[1:] + np.roll(P, -1)[:-1])*0.5 \n",
    "    return np.dot(f(ts), deltas)\n",
    "\n",
    "\n",
    "def lap(P, *args):\n",
    "    P = np.array(P)\n",
    "    l_ = 0\n",
    "    for f in args:\n",
    "        l_ += np.square(np.diff(f(P)))\n",
    "    \n",
    "    return np.sum(np.sqrt(l_))"
   ]
  },
  {
   "cell_type": "markdown",
   "metadata": {},
   "source": [
    "### Ejemplo 1. $f(t) = (t cos(t), t sin(t))$ definida en $[0, 2\\pi]$"
   ]
  },
  {
   "cell_type": "code",
   "execution_count": 121,
   "metadata": {},
   "outputs": [
    {
     "data": {
      "image/png": "[encoded data removed]",
      "text/plain": [
       "<Figure size 720x360 with 1 Axes>"
      ]
     },
     "metadata": {
      "needs_background": "light"
     },
     "output_type": "display_data"
    }
   ],
   "source": [
    "fig = plt.figure()\n",
    "ax = fig.gca()\n",
    "\n",
    "t = np.linspace(0, 2*np.pi, 100)\n",
    "x = t * np.cos(t)\n",
    "y = t * np.sin(t)\n",
    "\n",
    "ax.plot(x, y, label='$f(t) = (t \\cos(t), t \\sin(t) )$')\n",
    "ax.legend()\n",
    "\n",
    "plt.show()"
   ]
  },
  {
   "cell_type": "markdown",
   "metadata": {},
   "source": [
    "La derivada de esta función es $f'(t) = (-t \\sin(t) + \\cos(t), t \\cos(t) + \\sin(t))$. Observe que esta función es continua en $[0, 2\\pi]$. La norma de esta función es\n",
    "$$\\lvert \\lvert f'(t) \\lvert \\lvert = \\sqrt{1 + t^2}. $$\n",
    "Por tanto, la longitud de arco de $f$ es\n",
    "$$\\Lambda_f(0, 2\\pi) = \\int_{0}^{2\\pi} \\sqrt{1 + t^2}dt = \\frac{t}{2}\\sqrt{1 + t^2} + \\frac{1}{2}\\ln(x + \\sqrt{1 + x^2}) \\mid_0^{2\\pi} = \\pi \\sqrt{1 + 4\\pi^2} + \\frac{1}{2}\\ln(2\\pi + \\sqrt{1 + 4\\pi^2}). $$\n",
    "Esto es aproximadamente igual a "
   ]
  },
  {
   "cell_type": "code",
   "execution_count": 112,
   "metadata": {},
   "outputs": [
    {
     "name": "stdout",
     "output_type": "stream",
     "text": [
      "21.256294148209097\n"
     ]
    }
   ],
   "source": [
    "print(np.pi * np.sqrt(1 + 4*np.pi**2) + 0.5*np.log(2*np.pi + np.sqrt(1 + 4*np.pi**2)) )"
   ]
  },
  {
   "cell_type": "markdown",
   "metadata": {},
   "source": [
    "Veamos que esto se puede aproximar mediante sumas de Riemann y mediante aproximaciones poligonales."
   ]
  },
  {
   "cell_type": "code",
   "execution_count": 114,
   "metadata": {},
   "outputs": [],
   "source": [
    "P = [np.linspace(0, 2*np.pi, n) for n in [5, 10, 15, 20]]"
   ]
  },
  {
   "cell_type": "markdown",
   "metadata": {},
   "source": [
    "Sumas de Riemann: $S(P, \\lvert \\lvert f' \\lvert \\lvert) = \\sum \\lvert \\lvert f'(t_k) \\lvert \\lvert (x_k - x_{k-1}) = \\sum \\sqrt{1 + t_k^2}(x_k - x_{k-1})$"
   ]
  },
  {
   "cell_type": "code",
   "execution_count": 115,
   "metadata": {},
   "outputs": [
    {
     "name": "stdout",
     "output_type": "stream",
     "text": [
      "21.160953921320598\n",
      "21.236250136494235\n",
      "21.248005894267735\n",
      "21.25179415442051\n"
     ]
    }
   ],
   "source": [
    "for Pi in P:\n",
    "    print(suma_r(Pi, lambda x: np.sqrt(1 + x**2)))"
   ]
  },
  {
   "cell_type": "markdown",
   "metadata": {},
   "source": [
    "Aproximaciones poligonales: \n",
    "$\\Lambda_f(P) = \\sum \\lvert \\lvert f(x_k) - f(x_{k-1})\\lvert \\lvert = \\sum (x_k - x_{k-1}) \\sqrt{(\\cos(x_k) - \\cos(x_{k-1}))^2 + (\\sin(x_k) - \\sin(x_{k-1}))^2 } $"
   ]
  },
  {
   "cell_type": "code",
   "execution_count": 116,
   "metadata": {},
   "outputs": [],
   "source": [
    "P = [np.linspace(0, 2*np.pi, n) for n in [5, 10, 15, 20, 50]]"
   ]
  },
  {
   "cell_type": "code",
   "execution_count": 117,
   "metadata": {},
   "outputs": [
    {
     "name": "stdout",
     "output_type": "stream",
     "text": [
      "18.60077202585923\n",
      "20.70707348778226\n",
      "21.02797075738669\n",
      "21.132094075665364\n",
      "21.237584486153885\n"
     ]
    }
   ],
   "source": [
    "for Pi in P:\n",
    "    print(lap(Pi, lambda x: x*np.cos(x), lambda x: x*np.sin(x)))"
   ]
  },
  {
   "cell_type": "markdown",
   "metadata": {},
   "source": [
    "### Ejemplo 2: f(t) = (t- sen(t), 1 - cos(t) ) definida en $[0, 2\\pi]$"
   ]
  },
  {
   "cell_type": "code",
   "execution_count": 122,
   "metadata": {},
   "outputs": [
    {
     "data": {
      "image/png": "[encoded data removed]",
      "text/plain": [
       "<Figure size 720x360 with 1 Axes>"
      ]
     },
     "metadata": {
      "needs_background": "light"
     },
     "output_type": "display_data"
    }
   ],
   "source": [
    "fig = plt.figure()\n",
    "ax = fig.gca()\n",
    "\n",
    "t = np.linspace(0, 2*np.pi, 100)\n",
    "x = t - np.sin(t)\n",
    "y = 1- np.cos(t)\n",
    "\n",
    "ax.plot(x, y, label='$f(t) = (t- sen(t), 1 - cos(t))$')\n",
    "ax.legend()\n",
    "\n",
    "plt.show()"
   ]
  },
  {
   "cell_type": "markdown",
   "metadata": {},
   "source": [
    "La derivada de esta función es $f'(t) = (1 - \\cos(t), \\sin(t))$, que es continua en $[0, 2\\pi]$. La norma de $f'$ es $\\sqrt{2 - 2cos(t)} = \\sqrt{4\\sin^2(t/2)} = 2\\sin(t/2)$. Por tanto su longitud de arco es\n",
    "$$\\int_0^{2\\pi} 2 \\sin(t/2) dt = -4\\cos(t/2) \\lvert_0^{2\\pi} = 8.$$"
   ]
  },
  {
   "cell_type": "markdown",
   "metadata": {},
   "source": [
    "De nuevo, comprobemos esto con aproximaciones poligonales:"
   ]
  },
  {
   "cell_type": "code",
   "execution_count": 125,
   "metadata": {},
   "outputs": [],
   "source": [
    "P = [np.linspace(0, 2*np.pi, n) for n in [5, 10, 15, 20, 50]]"
   ]
  },
  {
   "cell_type": "code",
   "execution_count": 126,
   "metadata": {},
   "outputs": [
    {
     "name": "stdout",
     "output_type": "stream",
     "text": [
      "7.819756026797096\n",
      "7.960723801993044\n",
      "7.983475280262952\n",
      "7.990969914860824\n",
      "7.998632117423178\n"
     ]
    }
   ],
   "source": [
    "for Pi in P:\n",
    "    print(lap(Pi, lambda x: x - np.sin(x), lambda x: 1 - np.cos(x)))"
   ]
  },
  {
   "cell_type": "markdown",
   "metadata": {},
   "source": [
    "### Ejemplo 3: $f(x) = x \\cos( \\pi / 2x), x \\neq 0; f(0) = 0$; definida en $[0, 1]$"
   ]
  },
  {
   "cell_type": "code",
   "execution_count": 86,
   "metadata": {},
   "outputs": [
    {
     "name": "stderr",
     "output_type": "stream",
     "text": [
      "/Users/LuisG/Documents/repos/pynotes/env/lib/python3.7/site-packages/ipykernel_launcher.py:6: RuntimeWarning: divide by zero encountered in true_divide\n",
      "  \n",
      "/Users/LuisG/Documents/repos/pynotes/env/lib/python3.7/site-packages/ipykernel_launcher.py:6: RuntimeWarning: invalid value encountered in cos\n",
      "  \n"
     ]
    },
    {
     "data": {
      "image/png": "[encoded data removed]",
      "text/plain": [
       "<Figure size 864x432 with 1 Axes>"
      ]
     },
     "metadata": {
      "needs_background": "light"
     },
     "output_type": "display_data"
    }
   ],
   "source": [
    "fig = plt.figure()\n",
    "ax = fig.gca()\n",
    "\n",
    "t = np.linspace(0, 1, 1000)\n",
    "x = t \n",
    "y = np.where(t < 0.001, 0, t * np.cos(np.pi/(2*t)))\n",
    "\n",
    "ax.plot(x, y, label='$f(t) = (t, t \\cos(\\pi/2t) )$')\n",
    "ax.legend()\n",
    "\n",
    "plt.show()"
   ]
  },
  {
   "cell_type": "code",
   "execution_count": 99,
   "metadata": {},
   "outputs": [],
   "source": [
    "P = [np.linspace(0, 1, n) for n in [5, 10, 15, 20, 50, 100, 500, 1000, 20000]]"
   ]
  },
  {
   "cell_type": "code",
   "execution_count": 100,
   "metadata": {},
   "outputs": [
    {
     "name": "stdout",
     "output_type": "stream",
     "text": [
      "1.8743252122558411\n",
      "1.7862721789863063\n",
      "1.9541504564538883\n",
      "2.186304591782668\n",
      "2.783397139167719\n",
      "3.030248130739655\n",
      "3.8460490696591\n",
      "4.179426422233406\n",
      "5.668484503734783\n"
     ]
    },
    {
     "name": "stderr",
     "output_type": "stream",
     "text": [
      "/Users/LuisG/Documents/repos/pynotes/env/lib/python3.7/site-packages/ipykernel_launcher.py:2: RuntimeWarning: divide by zero encountered in true_divide\n",
      "  \n",
      "/Users/LuisG/Documents/repos/pynotes/env/lib/python3.7/site-packages/ipykernel_launcher.py:2: RuntimeWarning: invalid value encountered in cos\n",
      "  \n"
     ]
    }
   ],
   "source": [
    "for Pi in P:\n",
    "    print( lap(Pi, lambda x: x, lambda x: np.where(x < 0.0001, 0, x*np.cos(np.pi/(2*x)))))"
   ]
  },
  {
   "cell_type": "markdown",
   "metadata": {},
   "source": [
    "Se comprueba (aunque no se demuestra) que los números $\\Lambda_f(P)$ no forman un conjunto acotado superiormente. A medida que hacemos la partición más fina, estos números forman una sucesión creciente no acotada."
   ]
  }
 ],
 "metadata": {
  "kernelspec": {
   "display_name": "Python 3",
   "language": "python",
   "name": "python3"
  },
  "language_info": {
   "codemirror_mode": {
    "name": "ipython",
    "version": 3
   },
   "file_extension": ".py",
   "mimetype": "text/x-python",
   "name": "python",
   "nbconvert_exporter": "python",
   "pygments_lexer": "ipython3",
   "version": "3.7.2"
  }
 },
 "nbformat": 4,
 "nbformat_minor": 2
}
