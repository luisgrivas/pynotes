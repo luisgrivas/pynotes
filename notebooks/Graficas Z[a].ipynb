{
 "cells": [
  {
   "cell_type": "markdown",
   "metadata": {},
   "source": [
    "### Gráficas del anillo $\\mathbb{Z}[\\alpha]$\n",
    "\n",
    "En este notebook graficamos el comportamiento del anillo $\\mathbb{Z}[\\alpha]$ cuando $\\alpha$ es un número complejo. Recordemos que $\\mathbb{Z}[\\alpha]$ se define como el subanillo más pequeño de $\\mathbb{C}$ que contiene a $\\alpha$.\n"
   ]
  },
  {
   "cell_type": "code",
   "execution_count": 1,
   "metadata": {},
   "outputs": [],
   "source": [
    "import numpy as np\n",
    "import cmath\n",
    "import matplotlib.pyplot as plt"
   ]
  },
  {
   "cell_type": "code",
   "execution_count": 2,
   "metadata": {},
   "outputs": [],
   "source": [
    "def gen_points(alpha, n = 100, grad=3, rg=(-3,4)):\n",
    "    coef = np.arange(rg[0], rg[1])\n",
    "    perm = np.array([np.random.choice(coef, grad+1) for i in range(n)])\n",
    "    pows = np.array([ alpha ** i for i in range(grad+1) ])\n",
    "    return np.unique(np.dot(pows, perm.T)) "
   ]
  },
  {
   "cell_type": "code",
   "execution_count": 3,
   "metadata": {},
   "outputs": [],
   "source": [
    "def plot_Z(alpha, n=1000):\n",
    "    fig,ax = plt.subplots()\n",
    "    points = gen_points(alpha, n)\n",
    "    ax.scatter(points.real,points.imag)\n",
    "    plt.show()\n"
   ]
  },
  {
   "cell_type": "markdown",
   "metadata": {},
   "source": [
    "En el caso $\\alpha = 0$ nuestra funcion **no grafica correctamente** al subanillo $\\mathbb{Z}[0]$. Como sabemos, el subanillo más pequeño que contiene al $0$ es el subanillo trivial. Por tanto $\\mathbb{Z}[0] = \\{0\\}$."
   ]
  },
  {
   "cell_type": "markdown",
   "metadata": {},
   "source": [
    "Como nos dice nuestra intuición, el subanillo más pequeño que contiene al $1$ son los enteros. ¿Por qué?"
   ]
  },
  {
   "cell_type": "code",
   "execution_count": 4,
   "metadata": {},
   "outputs": [
    {
     "data": {
      "image/png": "[encoded data removed]",
      "text/plain": [
       "<Figure size 432x288 with 1 Axes>"
      ]
     },
     "metadata": {
      "needs_background": "light"
     },
     "output_type": "display_data"
    }
   ],
   "source": [
    "plot_Z(1)"
   ]
  },
  {
   "cell_type": "markdown",
   "metadata": {},
   "source": [
    "Podemos ver que la gráfica de $\\mathbb{Z}[1/2]$ es densa en el eje real. Podemos describir a este conjunto como los racionales cuyo denominador es una potencia de $2$. ¿Es denso este conjunto?"
   ]
  },
  {
   "cell_type": "code",
   "execution_count": 5,
   "metadata": {},
   "outputs": [
    {
     "data": {
      "image/png": "[encoded data removed]",
      "text/plain": [
       "<Figure size 432x288 with 1 Axes>"
      ]
     },
     "metadata": {
      "needs_background": "light"
     },
     "output_type": "display_data"
    }
   ],
   "source": [
    "plot_Z(0.5)"
   ]
  },
  {
   "cell_type": "markdown",
   "metadata": {},
   "source": [
    "**ENTEROS GAUSSIANOS**\n",
    "Como sabemos, los enteros gaussianos $\\mathbb{Z}[i]$ son de la forma $a + bi$ con $a,b \\in \\mathbb{Z}$. Nuestra intuición nos dice que su gráfica forma una especie de \"reja\"."
   ]
  },
  {
   "cell_type": "code",
   "execution_count": 6,
   "metadata": {},
   "outputs": [
    {
     "data": {
      "image/png": "[encoded data removed]",
      "text/plain": [
       "<Figure size 432x288 with 1 Axes>"
      ]
     },
     "metadata": {
      "needs_background": "light"
     },
     "output_type": "display_data"
    }
   ],
   "source": [
    "plot_Z(complex(0,1))"
   ]
  }
 ],
 "metadata": {
  "kernelspec": {
   "display_name": "Python 3",
   "language": "python",
   "name": "python3"
  },
  "language_info": {
   "codemirror_mode": {
    "name": "ipython",
    "version": 3
   },
   "file_extension": ".py",
   "mimetype": "text/x-python",
   "name": "python",
   "nbconvert_exporter": "python",
   "pygments_lexer": "ipython3",
   "version": "3.7.2"
  }
 },
 "nbformat": 4,
 "nbformat_minor": 2
}
