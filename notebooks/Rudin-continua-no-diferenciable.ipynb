{
 "cells": [
  {
   "cell_type": "markdown",
   "metadata": {},
   "source": [
    "# Función continua en todo $\\mathbb{R}$ y diferenciable en ningún lado."
   ]
  },
  {
   "cell_type": "markdown",
   "metadata": {},
   "source": [
    "Construcción obtenida del libro _Principles of Mathematical Analysis_ de Walter Rudin."
   ]
  },
  {
   "cell_type": "code",
   "execution_count": 1,
   "metadata": {},
   "outputs": [],
   "source": [
    "import numpy as np\n",
    "import matplotlib.pyplot as plt\n",
    "import gif\n",
    "\n",
    "M = 10000"
   ]
  },
  {
   "cell_type": "markdown",
   "metadata": {},
   "source": [
    "Definamos $\\phi(x) = \\lvert x \\lvert$, para $-1 \\leq x \\leq 1$. Extendamos la definición de $\\phi(x)$ a todos los reales requiriendo que $\\phi(x + 2) = \\phi(x)$. \n",
    "\n",
    "Para toda $s, t$ se tiene que \n",
    "$$\n",
    "\\lvert \\phi(s) - \\phi(t) \\lvert \\leq \\lvert s - t\\lvert. \n",
    "$$\n",
    "En particular, $\\phi$ es continua en $\\mathbb{R}$. Definamos \n",
    "$$\n",
    "f(x):= \\sum_{n=0}^\\infty \\left( \\frac{3}{4} \\right)^n \\phi(4^n x).\n",
    "$$\n",
    "Esta función satisface que es continua en todo $\\mathbb{R}$ pero no es diferenciable en níngún punto de $\\mathbb{R}$. Para más información, consultar este post.\n"
   ]
  },
  {
   "cell_type": "code",
   "execution_count": 2,
   "metadata": {},
   "outputs": [],
   "source": [
    "def phi(x):\n",
    "    fl = np.floor(x)\n",
    "    li = np.where(np.mod(fl, 2) == 0, fl-1, fl)\n",
    "    d = np.where(li <= -1.0, -1.0-li, np.where(li >= 1.0, -1.0-li, 0) )\n",
    "    xs = d+x\n",
    "    return np.abs(xs)"
   ]
  },
  {
   "cell_type": "code",
   "execution_count": 3,
   "metadata": {},
   "outputs": [],
   "source": [
    "def wr(x, n=10):\n",
    "    c=np.power(0.75, n)\n",
    "    xs=np.power(4, n)*x\n",
    "    return c*phi(xs)\n",
    "    "
   ]
  },
  {
   "cell_type": "code",
   "execution_count": 4,
   "metadata": {},
   "outputs": [],
   "source": [
    "@gif.frame\n",
    "def plot(n):\n",
    "    x = np.linspace(-1,1,M)\n",
    "    y = wr(x, n=n)\n",
    "    plt.figure(figsize=(12,6))\n",
    "    plt.plot(x, y, 'k-', lw=0.3)\n",
    "    plt.axis('off')"
   ]
  },
  {
   "cell_type": "code",
   "execution_count": 5,
   "metadata": {},
   "outputs": [],
   "source": [
    "frames = []\n",
    "for n in [0,1,2,3,4,5,6,7]:\n",
    "    frame = plot(n)\n",
    "    frames.append(frame)"
   ]
  },
  {
   "cell_type": "code",
   "execution_count": 6,
   "metadata": {},
   "outputs": [],
   "source": [
    "gif.save(frames, 'wr-connodif.gif', duration=512)"
   ]
  }
 ],
 "metadata": {
  "kernelspec": {
   "display_name": "Python 3",
   "language": "python",
   "name": "python3"
  },
  "language_info": {
   "codemirror_mode": {
    "name": "ipython",
    "version": 3
   },
   "file_extension": ".py",
   "mimetype": "text/x-python",
   "name": "python",
   "nbconvert_exporter": "python",
   "pygments_lexer": "ipython3",
   "version": "3.7.2"
  }
 },
 "nbformat": 4,
 "nbformat_minor": 2
}
